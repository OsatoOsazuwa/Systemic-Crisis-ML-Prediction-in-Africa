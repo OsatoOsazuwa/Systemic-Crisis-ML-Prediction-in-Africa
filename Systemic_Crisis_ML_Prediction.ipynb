{
 "cells": [
  {
   "cell_type": "markdown",
   "id": "254b0211-33b5-4b73-8e0c-626416b62b3a",
   "metadata": {},
   "source": [
    "### Systemic Crisis Prediction in Africa\n",
    "\n",
    "This project analyzes a dataset (1860-2014) from 13 African countries to predict systemic crisis emergence using indicators like annual inflation rates.\n",
    "\n",
    "Dataset: [**Dataset Link**](**https://drive.google.com/file/d/1fTQ9R29kgAhInFO0HMqvkcAfSZWg6fCx/view**)\n",
    "\n",
    "**Steps**\n",
    "\n",
    "- Data Exploration\n",
    "\n",
    "- Imported and inspected the dataset.\n",
    "\n",
    "- Used pandas profiling for insights on missing values, duplicates, and outliers.\n",
    "\n",
    "- Data Cleaning\n",
    "\n",
    "- Removed duplicates and addressed outliers using statistical methods.\n",
    "\n",
    "- Encoded categorical features using Label Encoding.\n",
    "\n",
    "- Selected the target variable and relevant features based on correlation analysis.\n",
    "\n",
    "- Model Training and Evaluation\n",
    "\n",
    "- Split data into training (80%) and test (20%) sets.\n",
    "\n",
    "- Trained classification models (e.g., Logistic Regression, Random Forest).\n",
    "\n",
    "- Evaluated using metrics like Accuracy, Precision, Recall, F1-Score, and ROC-AUC.\n",
    "\n",
    "- Model Improvement\n",
    "\n",
    "- Explored feature engineering and hyperparameter tuning.\n",
    "\n",
    "- Discussed balancing techniques like SMOTE and advanced models (XGBoost, CatBoost).\n",
    "\n",
    "**Tools and Libraries**\n",
    "\n",
    "- Python, Pandas, Numpy, Scikit-learn, Matplotlib, Seaborn, Pandas Profiling, Imbalanced-learn.\n",
    "\n",
    "**Key Insights**\n",
    "\n",
    "- Effective preprocessing improved model performance.\n",
    "\n",
    "- Collaboration provided strategies for enhancement."
   ]
  },
  {
   "cell_type": "code",
   "execution_count": 2,
   "id": "d08ef1eb-5037-470e-90a6-a976d8117094",
   "metadata": {},
   "outputs": [],
   "source": [
    "## importing libraries\n",
    "import numpy as np\n",
    "import pandas as pd\n",
    "import matplotlib.pyplot as plt\n",
    "import seaborn as sns\n",
    "from sklearn.preprocessing import LabelEncoder\n",
    "from sklearn.linear_model import LogisticRegression\n",
    "from sklearn.model_selection import train_test_split\n",
    "from sklearn.metrics import confusion_matrix\n",
    "from sklearn.tree import DecisionTreeClassifier\n",
    "from sklearn.ensemble import RandomForestClassifier\n",
    "from sklearn.svm import SVC\n",
    "from sklearn.neighbors import KNeighborsClassifier\n",
    "from sklearn.metrics import accuracy_score\n",
    "from sklearn.model_selection import cross_val_score"
   ]
  },
  {
   "cell_type": "code",
   "execution_count": null,
   "id": "8c898c54-9486-47f5-85c1-227e91c3f209",
   "metadata": {},
   "outputs": [],
   "source": [
    "# Importing dataset using pandas\n",
    "dataset = pd.read_csv(r"
   ]
  }
 ],
 "metadata": {
  "kernelspec": {
   "display_name": "Python 3 (ipykernel)",
   "language": "python",
   "name": "python3"
  },
  "language_info": {
   "codemirror_mode": {
    "name": "ipython",
    "version": 3
   },
   "file_extension": ".py",
   "mimetype": "text/x-python",
   "name": "python",
   "nbconvert_exporter": "python",
   "pygments_lexer": "ipython3",
   "version": "3.12.4"
  }
 },
 "nbformat": 4,
 "nbformat_minor": 5
}
